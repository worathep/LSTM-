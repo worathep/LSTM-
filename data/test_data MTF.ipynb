{
 "cells": [
  {
   "cell_type": "code",
   "execution_count": 104,
   "metadata": {},
   "outputs": [
    {
     "name": "stdout",
     "output_type": "stream",
     "text": [
      "2020-06-02 18:50:10.589145\n"
     ]
    }
   ],
   "source": [
    "#test LSTM  input 4D  open high low close\n",
    "import pandas as pd\n",
    "import matplotlib.pyplot as plt\n",
    "import numpy as np\n",
    "from datetime import datetime\n",
    "print(datetime.now())"
   ]
  },
  {
   "cell_type": "code",
   "execution_count": 118,
   "metadata": {},
   "outputs": [
    {
     "name": "stdout",
     "output_type": "stream",
     "text": [
      "<class 'pandas.core.frame.DataFrame'> Mn.shape= (270, 7)\n",
      "<class 'pandas.core.frame.DataFrame'> Wk.shape= (873, 7)\n",
      "<class 'pandas.core.frame.DataFrame'> D.shape= (1393, 7)\n",
      "<class 'pandas.core.series.Series'>\n",
      "1\n",
      "<class 'pandas.core.series.Series'>\n",
      "2\n",
      "0    1.06257\n",
      "1    1.06098\n",
      "Name: Close, dtype: float64\n",
      "False\n"
     ]
    }
   ],
   "source": [
    "#load data and insert header ['Index','Time','Open','High','Low','Close','Volume']\n",
    "H_=['Date','Time','Open','High','Low','Close','Volume']\n",
    "\n",
    "data_Mn=pd.read_csv('data/EURUSDm43200.csv', names = H_)\n",
    "data_Wk=pd.read_csv('data/EURUSDm10080.csv', names = H_)\n",
    "data_D=pd.read_csv('data/EURUSDm1440.csv', names = H_)\n",
    "\n",
    "\n",
    "#data_Mn.tail()\n",
    "#---------------------predata from df to array และไม่เอาข้อมูลสุดท้าย---------------------\n",
    "#train_data_Mn=data_Mn.iloc[:-1,2:6].values   \n",
    "#train_data_Wk=data_Wk.iloc[:-1,2:6].values \n",
    "#train_data_D=data_D.iloc[:-1,2:6].values \n",
    "\n",
    "#data_D=data_D.iloc[:-1,:].values \n",
    "\n",
    "print(type(data_Mn),'Mn.shape=',data_Mn.shape)\n",
    "print(type(data_Wk),'Wk.shape=',data_Wk.shape)\n",
    "print(type(data_D),'D.shape=',data_D.shape)\n",
    "\n",
    "\n",
    "#print(data_Mn)\n",
    "#print(data_Wk[:,:])\n",
    "#print(data_D)\n",
    "\n",
    "#print(data_D['Date'])\n",
    "\n",
    "#for i in range(len(data_D)):\n",
    "#    data_D['Date'] = pd.to_datetime(data_D['Date'][i], '%y-%m-%d')\n",
    "    \n",
    "\n",
    "print(type(data_D['Date']))\n",
    "print('1')\n",
    "    \n",
    "data_D['Date']=pd.to_datetime(data_D['Date'])    # convert pd to date\n",
    "data_Wk['Date']=pd.to_datetime(data_Wk['Date'])  \n",
    "data_Mn['Date']=pd.to_datetime(data_Mn['Date'])  \n",
    "\n",
    "print(type(data_D['Date']))\n",
    "print('2')\n",
    "\n",
    "#data_D['Date'] = datetime.datetime(data_D['Date'])\n",
    "#print(type(data_D['Date']))\n",
    "print(data_D['Close'][0:2])\n",
    "\n",
    "#print(type.(data_D))\n",
    "#print(data_D['Date'][0] ,'มากกว่า', data_D['Date'][1])\n",
    "print(data_D['Date'][0] > data_D['Date'][1])"
   ]
  },
  {
   "cell_type": "code",
   "execution_count": 96,
   "metadata": {},
   "outputs": [
    {
     "name": "stdout",
     "output_type": "stream",
     "text": [
      "<class 'pandas.core.frame.DataFrame'> Mn.shape= (270, 7)\n",
      "<class 'pandas.core.frame.DataFrame'> Wk.shape= (873, 7)\n",
      "<class 'pandas.core.frame.DataFrame'> D.shape= (1393, 7)\n",
      "0      2015-12-01\n",
      "1      2015-12-02\n",
      "2      2015-12-03\n",
      "3      2015-12-04\n",
      "4      2015-12-06\n",
      "          ...    \n",
      "1388   2020-05-24\n",
      "1389   2020-05-25\n",
      "1390   2020-05-26\n",
      "1391   2020-05-27\n",
      "1392   2020-05-28\n",
      "Name: Date, Length: 1393, dtype: datetime64[ns]\n",
      "0   2015-12-01\n",
      "1   2015-12-02\n",
      "Name: Date, dtype: datetime64[ns]\n",
      "2020-06-02 18:39:42.283230\n",
      "<class 'pandas.core.frame.DataFrame'>\n",
      "RangeIndex: 1393 entries, 0 to 1392\n",
      "Data columns (total 7 columns):\n",
      " #   Column  Non-Null Count  Dtype         \n",
      "---  ------  --------------  -----         \n",
      " 0   Date    1393 non-null   datetime64[ns]\n",
      " 1   Time    1393 non-null   object        \n",
      " 2   Open    1393 non-null   float64       \n",
      " 3   High    1393 non-null   float64       \n",
      " 4   Low     1393 non-null   float64       \n",
      " 5   Close   1393 non-null   float64       \n",
      " 6   Volume  1393 non-null   int64         \n",
      "dtypes: datetime64[ns](1), float64(4), int64(1), object(1)\n",
      "memory usage: 76.3+ KB\n",
      "None\n"
     ]
    }
   ],
   "source": [
    "#load data and insert header ['Index','Time','Open','High','Low','Close','Volume']\n",
    "H_=['Date','Time','Open','High','Low','Close','Volume']\n",
    "\n",
    "data_Mn=pd.read_csv('data/EURUSDm43200.csv', names = H_)\n",
    "data_Wk=pd.read_csv('data/EURUSDm10080.csv', names = H_)\n",
    "data_D=pd.read_csv('data/EURUSDm1440.csv', names = H_)\n",
    "\n",
    "print(type(data_Mn),'Mn.shape=',data_Mn.shape)\n",
    "print(type(data_Wk),'Wk.shape=',data_Wk.shape)\n",
    "print(type(data_D),'D.shape=',data_D.shape)\n",
    "\n",
    "data_D['Date'] = pd.to_datetime(data_D['Date'], format='%Y.%m.%d')\n",
    "print(data_D['Date'])\n",
    "\n",
    "print(data_D['Date'].iloc[:2][:4])\n",
    "\n",
    "print(datetime.now())\n",
    "\n",
    "print(data_D.info())"
   ]
  },
  {
   "cell_type": "code",
   "execution_count": 117,
   "metadata": {},
   "outputs": [
    {
     "name": "stdout",
     "output_type": "stream",
     "text": [
      "[['2015.12.01']\n",
      " ['2015.12.02']\n",
      " ['2015.12.03']]\n",
      "<class 'pandas.core.frame.DataFrame'> Mn.shape= (270, 7)\n",
      "<class 'pandas.core.frame.DataFrame'> Wk.shape= (873, 7)\n",
      "<class 'pandas.core.frame.DataFrame'> D.shape= (1393, 7)\n"
     ]
    },
    {
     "ename": "AttributeError",
     "evalue": "type object 'datetime.datetime' has no attribute 'datetime'",
     "output_type": "error",
     "traceback": [
      "\u001b[1;31m---------------------------------------------------------------------------\u001b[0m",
      "\u001b[1;31mAttributeError\u001b[0m                            Traceback (most recent call last)",
      "\u001b[1;32m<ipython-input-117-cd3d3758f0f1>\u001b[0m in \u001b[0;36m<module>\u001b[1;34m\u001b[0m\n\u001b[0;32m     15\u001b[0m \u001b[1;33m\u001b[0m\u001b[0m\n\u001b[0;32m     16\u001b[0m \u001b[1;32mfor\u001b[0m \u001b[0mi\u001b[0m \u001b[1;32min\u001b[0m \u001b[0mrange\u001b[0m\u001b[1;33m(\u001b[0m\u001b[0mlen\u001b[0m\u001b[1;33m(\u001b[0m\u001b[0mt_data_D\u001b[0m\u001b[1;33m)\u001b[0m\u001b[1;33m)\u001b[0m\u001b[1;33m:\u001b[0m\u001b[1;33m\u001b[0m\u001b[1;33m\u001b[0m\u001b[0m\n\u001b[1;32m---> 17\u001b[1;33m     \u001b[0mt_data_D\u001b[0m\u001b[1;33m[\u001b[0m\u001b[1;34m'Date'\u001b[0m\u001b[1;33m]\u001b[0m \u001b[1;33m=\u001b[0m \u001b[0mdatetime\u001b[0m\u001b[1;33m.\u001b[0m\u001b[0mdatetime\u001b[0m\u001b[1;33m.\u001b[0m\u001b[0mdate\u001b[0m\u001b[1;33m(\u001b[0m\u001b[0mt_data_D\u001b[0m\u001b[1;33m[\u001b[0m\u001b[1;34m'Date'\u001b[0m\u001b[1;33m]\u001b[0m\u001b[1;33m[\u001b[0m\u001b[1;33m:\u001b[0m\u001b[0mlen\u001b[0m\u001b[1;33m(\u001b[0m\u001b[0mt_data_D\u001b[0m\u001b[1;33m)\u001b[0m\u001b[1;33m]\u001b[0m\u001b[1;33m,\u001b[0m \u001b[0mformat\u001b[0m\u001b[1;33m=\u001b[0m\u001b[1;34m'%Y.%m.%d'\u001b[0m\u001b[1;33m)\u001b[0m\u001b[1;33m\u001b[0m\u001b[1;33m\u001b[0m\u001b[0m\n\u001b[0m\u001b[0;32m     18\u001b[0m \u001b[1;33m\u001b[0m\u001b[0m\n\u001b[0;32m     19\u001b[0m \u001b[0mprint\u001b[0m\u001b[1;33m(\u001b[0m\u001b[0mtype\u001b[0m\u001b[1;33m(\u001b[0m\u001b[0mt_data_D\u001b[0m\u001b[1;33m)\u001b[0m\u001b[1;33m)\u001b[0m\u001b[1;33m\u001b[0m\u001b[1;33m\u001b[0m\u001b[0m\n",
      "\u001b[1;31mAttributeError\u001b[0m: type object 'datetime.datetime' has no attribute 'datetime'"
     ]
    }
   ],
   "source": [
    "#load data and insert header ['Index','Time','Open','High','Low','Close','Volume']\n",
    "H_=['Date','Time','Open','High','Low','Close','Volume']\n",
    "\n",
    "data_Mn=pd.read_csv('data/EURUSDm43200.csv', names = H_)\n",
    "data_Wk=pd.read_csv('data/EURUSDm10080.csv', names = H_)\n",
    "data_D=pd.read_csv('data/EURUSDm1440.csv', names = H_)\n",
    "\n",
    "t_data_D=data_D.iloc[:-1,:].values\n",
    "\n",
    "print(t_data_D[0:3,:1][0:3])\n",
    "\n",
    "print(type(data_Mn),'Mn.shape=',data_Mn.shape)\n",
    "print(type(data_Wk),'Wk.shape=',data_Wk.shape)\n",
    "print(type(data_D),'D.shape=',data_D.shape)\n",
    "\n",
    "for i in range(len(t_data_D)):\n",
    "    t_data_D['Date'] = datetime.datetime.date(t_data_D['Date'][:len(t_data_D)], format='%Y.%m.%d')\n",
    "    \n",
    "print(type(t_data_D))"
   ]
  },
  {
   "cell_type": "code",
   "execution_count": 95,
   "metadata": {},
   "outputs": [
    {
     "name": "stdout",
     "output_type": "stream",
     "text": [
      "1    2020-01-02\n",
      "2    2020-01-03\n",
      "3    2020-01-04\n",
      "Name: 0, dtype: object\n"
     ]
    }
   ],
   "source": [
    "pokemon_gold = pd.DataFrame([\n",
    "        ['2020-01-02','ฮิโนอาราชิ'],\n",
    "        ['2020-01-03','เอย์ปาม'],\n",
    "        ['2020-01-04','เนียวโรโม'],\n",
    "    ],\n",
    "    index=[1,2,3])\n",
    "\n",
    "print(pokemon_gold[0][:4])"
   ]
  },
  {
   "cell_type": "code",
   "execution_count": null,
   "metadata": {},
   "outputs": [],
   "source": []
  }
 ],
 "metadata": {
  "kernelspec": {
   "display_name": "Python 3",
   "language": "python",
   "name": "python3"
  },
  "language_info": {
   "codemirror_mode": {
    "name": "ipython",
    "version": 3
   },
   "file_extension": ".py",
   "mimetype": "text/x-python",
   "name": "python",
   "nbconvert_exporter": "python",
   "pygments_lexer": "ipython3",
   "version": "3.7.7"
  }
 },
 "nbformat": 4,
 "nbformat_minor": 4
}
